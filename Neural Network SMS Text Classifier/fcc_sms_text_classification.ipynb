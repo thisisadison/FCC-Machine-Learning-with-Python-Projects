{
 "cells": [
  {
   "cell_type": "code",
   "execution_count": 2,
   "id": "803886ce",
   "metadata": {},
   "outputs": [
    {
     "name": "stdout",
     "output_type": "stream",
     "text": [
      "Requirement already satisfied: tf-nightly in /Users/adisontan/anaconda3/lib/python3.11/site-packages (2.20.0.dev20250526)\n",
      "Requirement already satisfied: absl-py>=1.0.0 in /Users/adisontan/anaconda3/lib/python3.11/site-packages (from tf-nightly) (2.2.2)\n",
      "Requirement already satisfied: astunparse>=1.6.0 in /Users/adisontan/anaconda3/lib/python3.11/site-packages (from tf-nightly) (1.6.3)\n",
      "Requirement already satisfied: flatbuffers>=24.3.25 in /Users/adisontan/anaconda3/lib/python3.11/site-packages (from tf-nightly) (25.2.10)\n",
      "Requirement already satisfied: gast!=0.5.0,!=0.5.1,!=0.5.2,>=0.2.1 in /Users/adisontan/anaconda3/lib/python3.11/site-packages (from tf-nightly) (0.6.0)\n",
      "Requirement already satisfied: google-pasta>=0.1.1 in /Users/adisontan/anaconda3/lib/python3.11/site-packages (from tf-nightly) (0.2.0)\n",
      "Requirement already satisfied: libclang>=13.0.0 in /Users/adisontan/anaconda3/lib/python3.11/site-packages (from tf-nightly) (18.1.1)\n",
      "Requirement already satisfied: opt-einsum>=2.3.2 in /Users/adisontan/anaconda3/lib/python3.11/site-packages (from tf-nightly) (3.4.0)\n",
      "Requirement already satisfied: packaging in /Users/adisontan/anaconda3/lib/python3.11/site-packages (from tf-nightly) (23.1)\n",
      "Requirement already satisfied: protobuf>=4.21.6 in /Users/adisontan/anaconda3/lib/python3.11/site-packages (from tf-nightly) (4.25.7)\n",
      "Requirement already satisfied: requests<3,>=2.21.0 in /Users/adisontan/anaconda3/lib/python3.11/site-packages (from tf-nightly) (2.31.0)\n",
      "Requirement already satisfied: setuptools in /Users/adisontan/anaconda3/lib/python3.11/site-packages (from tf-nightly) (68.0.0)\n",
      "Requirement already satisfied: six>=1.12.0 in /Users/adisontan/anaconda3/lib/python3.11/site-packages (from tf-nightly) (1.16.0)\n",
      "Requirement already satisfied: termcolor>=1.1.0 in /Users/adisontan/anaconda3/lib/python3.11/site-packages (from tf-nightly) (3.1.0)\n",
      "Requirement already satisfied: typing-extensions>=3.6.6 in /Users/adisontan/anaconda3/lib/python3.11/site-packages (from tf-nightly) (4.7.1)\n",
      "Requirement already satisfied: wrapt>=1.11.0 in /Users/adisontan/anaconda3/lib/python3.11/site-packages (from tf-nightly) (1.14.1)\n",
      "Requirement already satisfied: grpcio<2.0,>=1.24.3 in /Users/adisontan/anaconda3/lib/python3.11/site-packages (from tf-nightly) (1.71.0)\n",
      "Requirement already satisfied: tb-nightly~=2.19.0.a in /Users/adisontan/anaconda3/lib/python3.11/site-packages (from tf-nightly) (2.19.0a20250218)\n",
      "Requirement already satisfied: keras-nightly>=3.6.0.dev in /Users/adisontan/anaconda3/lib/python3.11/site-packages (from tf-nightly) (3.10.0.dev2025052903)\n",
      "Requirement already satisfied: numpy<2.2.0,>=1.26.0 in /Users/adisontan/anaconda3/lib/python3.11/site-packages (from tf-nightly) (1.26.0)\n",
      "Requirement already satisfied: h5py>=3.11.0 in /Users/adisontan/anaconda3/lib/python3.11/site-packages (from tf-nightly) (3.13.0)\n",
      "Requirement already satisfied: ml-dtypes<1.0.0,>=0.5.1 in /Users/adisontan/anaconda3/lib/python3.11/site-packages (from tf-nightly) (0.5.1)\n",
      "Requirement already satisfied: wheel<1.0,>=0.23.0 in /Users/adisontan/anaconda3/lib/python3.11/site-packages (from astunparse>=1.6.0->tf-nightly) (0.38.4)\n",
      "Requirement already satisfied: rich in /Users/adisontan/anaconda3/lib/python3.11/site-packages (from keras-nightly>=3.6.0.dev->tf-nightly) (14.0.0)\n",
      "Requirement already satisfied: namex in /Users/adisontan/anaconda3/lib/python3.11/site-packages (from keras-nightly>=3.6.0.dev->tf-nightly) (0.0.9)\n",
      "Requirement already satisfied: optree in /Users/adisontan/anaconda3/lib/python3.11/site-packages (from keras-nightly>=3.6.0.dev->tf-nightly) (0.15.0)\n",
      "Requirement already satisfied: charset-normalizer<4,>=2 in /Users/adisontan/anaconda3/lib/python3.11/site-packages (from requests<3,>=2.21.0->tf-nightly) (2.0.4)\n",
      "Requirement already satisfied: idna<4,>=2.5 in /Users/adisontan/anaconda3/lib/python3.11/site-packages (from requests<3,>=2.21.0->tf-nightly) (3.4)\n",
      "Requirement already satisfied: urllib3<3,>=1.21.1 in /Users/adisontan/anaconda3/lib/python3.11/site-packages (from requests<3,>=2.21.0->tf-nightly) (1.26.16)\n",
      "Requirement already satisfied: certifi>=2017.4.17 in /Users/adisontan/anaconda3/lib/python3.11/site-packages (from requests<3,>=2.21.0->tf-nightly) (2023.11.17)\n",
      "Requirement already satisfied: markdown>=2.6.8 in /Users/adisontan/anaconda3/lib/python3.11/site-packages (from tb-nightly~=2.19.0.a->tf-nightly) (3.4.1)\n",
      "Requirement already satisfied: tensorboard-data-server<0.8.0,>=0.7.0 in /Users/adisontan/anaconda3/lib/python3.11/site-packages (from tb-nightly~=2.19.0.a->tf-nightly) (0.7.2)\n",
      "Requirement already satisfied: werkzeug>=1.0.1 in /Users/adisontan/anaconda3/lib/python3.11/site-packages (from tb-nightly~=2.19.0.a->tf-nightly) (2.2.3)\n",
      "Requirement already satisfied: MarkupSafe>=2.1.1 in /Users/adisontan/anaconda3/lib/python3.11/site-packages (from werkzeug>=1.0.1->tb-nightly~=2.19.0.a->tf-nightly) (2.1.1)\n",
      "Requirement already satisfied: markdown-it-py>=2.2.0 in /Users/adisontan/anaconda3/lib/python3.11/site-packages (from rich->keras-nightly>=3.6.0.dev->tf-nightly) (2.2.0)\n",
      "Requirement already satisfied: pygments<3.0.0,>=2.13.0 in /Users/adisontan/anaconda3/lib/python3.11/site-packages (from rich->keras-nightly>=3.6.0.dev->tf-nightly) (2.15.1)\n",
      "Requirement already satisfied: mdurl~=0.1 in /Users/adisontan/anaconda3/lib/python3.11/site-packages (from markdown-it-py>=2.2.0->rich->keras-nightly>=3.6.0.dev->tf-nightly) (0.1.0)\n",
      "Requirement already satisfied: tensorflow-datasets in /Users/adisontan/anaconda3/lib/python3.11/site-packages (4.9.8)\n",
      "Requirement already satisfied: absl-py in /Users/adisontan/anaconda3/lib/python3.11/site-packages (from tensorflow-datasets) (2.2.2)\n",
      "Requirement already satisfied: dm-tree in /Users/adisontan/anaconda3/lib/python3.11/site-packages (from tensorflow-datasets) (0.1.9)\n",
      "Requirement already satisfied: etils[edc,enp,epath,epy,etree]>=1.9.1 in /Users/adisontan/anaconda3/lib/python3.11/site-packages (from tensorflow-datasets) (1.12.2)\n",
      "Requirement already satisfied: immutabledict in /Users/adisontan/anaconda3/lib/python3.11/site-packages (from tensorflow-datasets) (4.2.1)\n",
      "Requirement already satisfied: numpy in /Users/adisontan/anaconda3/lib/python3.11/site-packages (from tensorflow-datasets) (1.26.0)\n",
      "Requirement already satisfied: promise in /Users/adisontan/anaconda3/lib/python3.11/site-packages (from tensorflow-datasets) (2.3)\n",
      "Requirement already satisfied: protobuf>=3.20 in /Users/adisontan/anaconda3/lib/python3.11/site-packages (from tensorflow-datasets) (4.25.7)\n",
      "Requirement already satisfied: psutil in /Users/adisontan/anaconda3/lib/python3.11/site-packages (from tensorflow-datasets) (5.9.0)\n",
      "Requirement already satisfied: pyarrow in /Users/adisontan/anaconda3/lib/python3.11/site-packages (from tensorflow-datasets) (11.0.0)\n",
      "Requirement already satisfied: requests>=2.19.0 in /Users/adisontan/anaconda3/lib/python3.11/site-packages (from tensorflow-datasets) (2.31.0)\n",
      "Requirement already satisfied: simple_parsing in /Users/adisontan/anaconda3/lib/python3.11/site-packages (from tensorflow-datasets) (0.1.7)\n",
      "Requirement already satisfied: tensorflow-metadata in /Users/adisontan/anaconda3/lib/python3.11/site-packages (from tensorflow-datasets) (1.17.1)\n",
      "Requirement already satisfied: termcolor in /Users/adisontan/anaconda3/lib/python3.11/site-packages (from tensorflow-datasets) (3.1.0)\n",
      "Requirement already satisfied: toml in /Users/adisontan/anaconda3/lib/python3.11/site-packages (from tensorflow-datasets) (0.10.2)\n",
      "Requirement already satisfied: tqdm in /Users/adisontan/anaconda3/lib/python3.11/site-packages (from tensorflow-datasets) (4.65.0)\n",
      "Requirement already satisfied: wrapt in /Users/adisontan/anaconda3/lib/python3.11/site-packages (from tensorflow-datasets) (1.14.1)\n",
      "Requirement already satisfied: einops in /Users/adisontan/anaconda3/lib/python3.11/site-packages (from etils[edc,enp,epath,epy,etree]>=1.9.1->tensorflow-datasets) (0.8.1)\n",
      "Requirement already satisfied: fsspec in /Users/adisontan/anaconda3/lib/python3.11/site-packages (from etils[edc,enp,epath,epy,etree]>=1.9.1->tensorflow-datasets) (2023.4.0)\n",
      "Requirement already satisfied: importlib_resources in /Users/adisontan/anaconda3/lib/python3.11/site-packages (from etils[edc,enp,epath,epy,etree]>=1.9.1->tensorflow-datasets) (6.5.2)\n",
      "Requirement already satisfied: typing_extensions in /Users/adisontan/anaconda3/lib/python3.11/site-packages (from etils[edc,enp,epath,epy,etree]>=1.9.1->tensorflow-datasets) (4.7.1)\n",
      "Requirement already satisfied: zipp in /Users/adisontan/anaconda3/lib/python3.11/site-packages (from etils[edc,enp,epath,epy,etree]>=1.9.1->tensorflow-datasets) (3.11.0)\n",
      "Requirement already satisfied: charset-normalizer<4,>=2 in /Users/adisontan/anaconda3/lib/python3.11/site-packages (from requests>=2.19.0->tensorflow-datasets) (2.0.4)\n",
      "Requirement already satisfied: idna<4,>=2.5 in /Users/adisontan/anaconda3/lib/python3.11/site-packages (from requests>=2.19.0->tensorflow-datasets) (3.4)\n",
      "Requirement already satisfied: urllib3<3,>=1.21.1 in /Users/adisontan/anaconda3/lib/python3.11/site-packages (from requests>=2.19.0->tensorflow-datasets) (1.26.16)\n",
      "Requirement already satisfied: certifi>=2017.4.17 in /Users/adisontan/anaconda3/lib/python3.11/site-packages (from requests>=2.19.0->tensorflow-datasets) (2023.11.17)\n",
      "Requirement already satisfied: attrs>=18.2.0 in /Users/adisontan/anaconda3/lib/python3.11/site-packages (from dm-tree->tensorflow-datasets) (22.1.0)\n",
      "Requirement already satisfied: six in /Users/adisontan/anaconda3/lib/python3.11/site-packages (from promise->tensorflow-datasets) (1.16.0)\n",
      "Requirement already satisfied: docstring-parser<1.0,>=0.15 in /Users/adisontan/anaconda3/lib/python3.11/site-packages (from simple_parsing->tensorflow-datasets) (0.16)\n",
      "Requirement already satisfied: googleapis-common-protos<2,>=1.56.4 in /Users/adisontan/anaconda3/lib/python3.11/site-packages (from tensorflow-metadata->tensorflow-datasets) (1.70.0)\n",
      "2.20.0-dev20250526\n"
     ]
    }
   ],
   "source": [
    "# import libraries\n",
    "try:\n",
    "  # %tensorflow_version only exists in Colab.\n",
    "  !pip install tf-nightly\n",
    "except Exception:\n",
    "    pass\n",
    "import tensorflow as tf\n",
    "import pandas as pd\n",
    "from tensorflow import keras\n",
    "!pip install tensorflow-datasets\n",
    "import tensorflow_datasets as tfds\n",
    "import numpy as np\n",
    "import matplotlib.pyplot as plt\n",
    "\n",
    "print(tf.__version__)"
   ]
  },
  {
   "cell_type": "code",
   "execution_count": 3,
   "id": "d2063c66",
   "metadata": {},
   "outputs": [
    {
     "name": "stdout",
     "output_type": "stream",
     "text": [
      "--2025-05-29 19:34:37--  https://cdn.freecodecamp.org/project-data/sms/train-data.tsv\n",
      "Resolving cdn.freecodecamp.org (cdn.freecodecamp.org)... 104.26.3.33, 104.26.2.33, 172.67.70.149\n",
      "Connecting to cdn.freecodecamp.org (cdn.freecodecamp.org)|104.26.3.33|:443... connected.\n",
      "HTTP request sent, awaiting response... 200 OK\n",
      "Length: 358233 (350K) [text/tab-separated-values]\n",
      "Saving to: ‘train-data.tsv’\n",
      "\n",
      "train-data.tsv      100%[===================>] 349.84K  1.08MB/s    in 0.3s    \n",
      "\n",
      "2025-05-29 19:34:39 (1.08 MB/s) - ‘train-data.tsv’ saved [358233/358233]\n",
      "\n",
      "--2025-05-29 19:34:39--  https://cdn.freecodecamp.org/project-data/sms/valid-data.tsv\n",
      "Resolving cdn.freecodecamp.org (cdn.freecodecamp.org)... 104.26.2.33, 172.67.70.149, 104.26.3.33\n",
      "Connecting to cdn.freecodecamp.org (cdn.freecodecamp.org)|104.26.2.33|:443... connected.\n",
      "HTTP request sent, awaiting response... 200 OK\n",
      "Length: 118774 (116K) [text/tab-separated-values]\n",
      "Saving to: ‘valid-data.tsv’\n",
      "\n",
      "valid-data.tsv      100%[===================>] 115.99K  --.-KB/s    in 0.01s   \n",
      "\n",
      "2025-05-29 19:34:41 (8.13 MB/s) - ‘valid-data.tsv’ saved [118774/118774]\n",
      "\n"
     ]
    }
   ],
   "source": [
    "# get data files\n",
    "!wget https://cdn.freecodecamp.org/project-data/sms/train-data.tsv\n",
    "!wget https://cdn.freecodecamp.org/project-data/sms/valid-data.tsv\n",
    "\n",
    "train_file_path = \"train-data.tsv\"\n",
    "test_file_path = \"valid-data.tsv\""
   ]
  },
  {
   "cell_type": "code",
   "execution_count": 21,
   "id": "4b4e0acd",
   "metadata": {},
   "outputs": [],
   "source": [
    "def plot_graphs(history, metric):\n",
    "    plt.plot(history.history[metric])\n",
    "    plt.plot(history.history['val_'+metric], '')\n",
    "    plt.xlabel(\"Epochs\")\n",
    "    plt.ylabel(metric)\n",
    "    plt.legend([metric, 'val_'+metric])"
   ]
  },
  {
   "cell_type": "code",
   "execution_count": 22,
   "id": "05702d13",
   "metadata": {},
   "outputs": [
    {
     "name": "stdout",
     "output_type": "stream",
     "text": [
      "     label                                               text\n",
      "4174   ham  just woke up. yeesh its late. but i didn't fal...\n",
      "4175   ham  what do u reckon as need 2 arrange transport i...\n",
      "4176  spam  free entry into our £250 weekly competition ju...\n",
      "4177  spam  -pls stop bootydelious (32/f) is inviting you ...\n",
      "4178   ham  tell my  bad character which u dnt lik in me. ...\n"
     ]
    }
   ],
   "source": [
    "train_df = pd.read_csv(train_file_path, sep='\\t', names=['label', 'text'])\n",
    "print(train_df.tail())"
   ]
  },
  {
   "cell_type": "code",
   "execution_count": 23,
   "id": "517a9ce4",
   "metadata": {},
   "outputs": [
    {
     "name": "stdout",
     "output_type": "stream",
     "text": [
      "     label                                               text\n",
      "1387   ham  true dear..i sat to pray evening and felt so.s...\n",
      "1388   ham               what will we do in the shower, baby?\n",
      "1389   ham  where are you ? what are you doing ? are yuou ...\n",
      "1390  spam  ur cash-balance is currently 500 pounds - to m...\n",
      "1391  spam  not heard from u4 a while. call 4 rude chat pr...\n"
     ]
    }
   ],
   "source": [
    "test_df = pd.read_csv(test_file_path, sep='\\t', names=['label', 'text'])\n",
    "print(test_df.tail())"
   ]
  },
  {
   "cell_type": "code",
   "execution_count": 25,
   "id": "40730461",
   "metadata": {},
   "outputs": [],
   "source": [
    "train_df['label'] = train_df['label'].replace({'ham': 1, 'spam': 0})\n",
    "test_df['label'] = test_df['label'].replace({'ham':1, 'spam':0})"
   ]
  },
  {
   "cell_type": "code",
   "execution_count": 26,
   "id": "2304656f",
   "metadata": {},
   "outputs": [
    {
     "name": "stdout",
     "output_type": "stream",
     "text": [
      "      label                                               text\n",
      "0         1  ahhhh...just woken up!had a bad dream about u ...\n",
      "1         1                           you can never do nothing\n",
      "2         1  now u sound like manky scouse boy steve,like! ...\n",
      "3         1  mum say we wan to go then go... then she can s...\n",
      "4         1  never y lei... i v lazy... got wat? dat day ü ...\n",
      "...     ...                                                ...\n",
      "4174      1  just woke up. yeesh its late. but i didn't fal...\n",
      "4175      1  what do u reckon as need 2 arrange transport i...\n",
      "4176      0  free entry into our £250 weekly competition ju...\n",
      "4177      0  -pls stop bootydelious (32/f) is inviting you ...\n",
      "4178      1  tell my  bad character which u dnt lik in me. ...\n",
      "\n",
      "[4179 rows x 2 columns]\n"
     ]
    }
   ],
   "source": [
    "print(train_df)"
   ]
  },
  {
   "cell_type": "code",
   "execution_count": 27,
   "id": "878c8a54",
   "metadata": {},
   "outputs": [
    {
     "name": "stdout",
     "output_type": "stream",
     "text": [
      "      label                                               text\n",
      "0         1  i am in hospital da. . i will return home in e...\n",
      "1         1         not much, just some textin'. how bout you?\n",
      "2         1  i probably won't eat at all today. i think i'm...\n",
      "3         1  don‘t give a flying monkeys wot they think and...\n",
      "4         1                                who are you seeing?\n",
      "...     ...                                                ...\n",
      "1387      1  true dear..i sat to pray evening and felt so.s...\n",
      "1388      1               what will we do in the shower, baby?\n",
      "1389      1  where are you ? what are you doing ? are yuou ...\n",
      "1390      0  ur cash-balance is currently 500 pounds - to m...\n",
      "1391      0  not heard from u4 a while. call 4 rude chat pr...\n",
      "\n",
      "[1392 rows x 2 columns]\n"
     ]
    }
   ],
   "source": [
    "print(test_df)"
   ]
  },
  {
   "cell_type": "code",
   "execution_count": 29,
   "id": "5a403764",
   "metadata": {},
   "outputs": [
    {
     "name": "stdout",
     "output_type": "stream",
     "text": [
      "text: ahhhh...just woken up!had a bad dream about u tho,so i dont like u right now :) i didnt know anything about comedy night but i guess im up for it.\n",
      "label: 1\n"
     ]
    }
   ],
   "source": [
    "for index, row in train_df.iterrows():\n",
    "    text = row['text']\n",
    "    label = row['label']\n",
    "    print('text:', text)\n",
    "    print('label:', label)\n",
    "    break "
   ]
  },
  {
   "cell_type": "code",
   "execution_count": 40,
   "id": "af01281e",
   "metadata": {},
   "outputs": [],
   "source": [
    "# Convert Pandas dataframe to Tensorflow dataset\n",
    "\n",
    "train_dataset = tf.data.Dataset.from_tensor_slices((train_df['text'].values, train_df['label'].values))\n",
    "test_dataset = tf.data.Dataset.from_tensor_slices((train_df['text'].values, train_df['label'].values))"
   ]
  },
  {
   "cell_type": "code",
   "execution_count": 41,
   "id": "9524888b",
   "metadata": {},
   "outputs": [
    {
     "data": {
      "text/plain": [
       "(TensorSpec(shape=(), dtype=tf.string, name=None),\n",
       " TensorSpec(shape=(), dtype=tf.int64, name=None))"
      ]
     },
     "execution_count": 41,
     "metadata": {},
     "output_type": "execute_result"
    }
   ],
   "source": [
    "train_dataset.element_spec"
   ]
  },
  {
   "cell_type": "code",
   "execution_count": 42,
   "id": "2160bd95",
   "metadata": {},
   "outputs": [
    {
     "data": {
      "text/plain": [
       "(TensorSpec(shape=(), dtype=tf.string, name=None),\n",
       " TensorSpec(shape=(), dtype=tf.int64, name=None))"
      ]
     },
     "execution_count": 42,
     "metadata": {},
     "output_type": "execute_result"
    }
   ],
   "source": [
    "test_dataset.element_spec"
   ]
  },
  {
   "cell_type": "code",
   "execution_count": 43,
   "id": "167c5fee",
   "metadata": {},
   "outputs": [],
   "source": [
    "# Shuffle data for training\n",
    "\n",
    "BUFFER_SIZE = 10000\n",
    "BATCH_SIZE = 64"
   ]
  },
  {
   "cell_type": "code",
   "execution_count": 44,
   "id": "51f1e0d0",
   "metadata": {},
   "outputs": [],
   "source": [
    "train_ds = train_dataset.shuffle(BUFFER_SIZE).batch(BATCH_SIZE).prefetch(tf.data.AUTOTUNE)\n",
    "test_ds = test_dataset.batch(BATCH_SIZE).prefetch(tf.data.AUTOTUNE)"
   ]
  },
  {
   "cell_type": "code",
   "execution_count": 66,
   "id": "74421590",
   "metadata": {},
   "outputs": [
    {
     "name": "stdout",
     "output_type": "stream",
     "text": [
      "texts:  [b\"at 4. let's go to bill millers\"\n",
      " b'gud ni8 dear..slp well..take care..swt dreams..muah..'\n",
      " b'cool. i am  &lt;#&gt;  inches long. hope you like them big!']\n",
      "\n",
      "labels:  [1 1 1]\n",
      "\n",
      "texts:  [b'do u hav any frnd by name ashwini in ur college?'\n",
      " b\"pansy! you've been living in a jungle for two years! its my driving you should be more worried about!\"\n",
      " b\"sorry, i'll call later\"]\n",
      "\n",
      "labels:  [1 1 1]\n",
      "\n",
      "texts:  [b'win a year supply of cds 4 a store of ur choice worth \\xc2\\xa3500 & enter our \\xc2\\xa3100 weekly draw txt music to 87066 ts&cs www.ldew.com.subs16+1win150ppmx3'\n",
      " b'okie...'\n",
      " b'pls ask macho how much is budget for bb bold 2 is cos i saw a new one for  &lt;#&gt;  dollars.']\n",
      "\n",
      "labels:  [0 1 1]\n",
      "\n",
      "texts:  [b\"babe, have you got enough money to pick up bread and milk ? and i'll give you it back when you get home ?\"\n",
      " b'hey you gave them your photo when you registered for driving ah? tmr wanna meet at yck?'\n",
      " b\"you will be receiving this week's triple echo ringtone shortly. enjoy it!\"]\n",
      "\n",
      "labels:  [1 1 0]\n",
      "\n",
      "texts:  [b'waqt se pehle or naseeb se zyada kisi ko kuch nahi milta,zindgi wo nahi he jo hum sochte hai zindgi wo hai jo ham jeetey hai..........'\n",
      " b'usually the body takes care of it buy making sure it doesnt progress. can we pls continue this talk on saturday.'\n",
      " b\"hi. i'm always online on yahoo and would like to chat with you someday\"]\n",
      "\n",
      "labels:  [1 1 1]\n",
      "\n"
     ]
    }
   ],
   "source": [
    "for example, label in train_ds.take(5):\n",
    "    print('texts: ', example.numpy()[:3])\n",
    "    print()\n",
    "    print('labels: ', label.numpy()[:3])\n",
    "    print()"
   ]
  },
  {
   "cell_type": "code",
   "execution_count": 73,
   "id": "ab2e7d43",
   "metadata": {},
   "outputs": [],
   "source": [
    "# Create text encoder"
   ]
  },
  {
   "cell_type": "code",
   "execution_count": 74,
   "id": "07a925c3",
   "metadata": {},
   "outputs": [],
   "source": [
    "VOCAB_SIZE = 1000\n",
    "\n",
    "# Transforms raw text input into numeric tokens to use for ML model\n",
    "\n",
    "encoder = tf.keras.layers.TextVectorization(max_tokens=VOCAB_SIZE)\n",
    "encoder.adapt(train_ds.map(lambda text, label: text))"
   ]
  },
  {
   "cell_type": "code",
   "execution_count": 75,
   "id": "cbdd7de7",
   "metadata": {},
   "outputs": [
    {
     "data": {
      "text/plain": [
       "array(['', '[UNK]', 'to', 'i', 'you', 'a', 'the', 'u', 'and', 'in', 'is',\n",
       "       'me', 'my', 'for', 'your', 'of', 'it', 'call', 'have', 'on'],\n",
       "      dtype='<U15')"
      ]
     },
     "execution_count": 75,
     "metadata": {},
     "output_type": "execute_result"
    }
   ],
   "source": [
    "vocab = np.array(encoder.get_vocabulary())\n",
    "vocab[:20]"
   ]
  },
  {
   "cell_type": "code",
   "execution_count": 76,
   "id": "3768d238",
   "metadata": {},
   "outputs": [
    {
     "data": {
      "text/plain": [
       "array([[  1,   1,   1,  29,   1,   1,   1,   1,   1,   1,   1,   1,   1,\n",
       "          1,  68,   1,   1,   1,   1,   1,   1,   1,   1,   1,   1,   1,\n",
       "          0,   0,   0,   0,   0,   0,   0,   0,   0,   0,   0,   0,   0,\n",
       "          0,   0,   0,   0,   0,   0,   0,   0,   0,   0,   0,   0,   0,\n",
       "          0,   0,   0,   0,   0,   0,   0,   0,   0,   0,   0,   0,   0,\n",
       "          0,   0,   0,   0,   0,   0,   0,   0,   0,   0,   0,   0,   0,\n",
       "          0,   0,   0,   0,   0,   0,   0,   0,   0,   0,   0,   0,   0,\n",
       "          0,   0,   0,   0,   0,   0,   0,   0,   0,   0,   0,   0,   0,\n",
       "          0,   0,   0],\n",
       "       [  1,   6,   1, 733, 178,  15,  16, 234, 447, 169,  16, 503,   1,\n",
       "         31,  39, 118,   1,  40, 270,  19, 622,   0,   0,   0,   0,   0,\n",
       "          0,   0,   0,   0,   0,   0,   0,   0,   0,   0,   0,   0,   0,\n",
       "          0,   0,   0,   0,   0,   0,   0,   0,   0,   0,   0,   0,   0,\n",
       "          0,   0,   0,   0,   0,   0,   0,   0,   0,   0,   0,   0,   0,\n",
       "          0,   0,   0,   0,   0,   0,   0,   0,   0,   0,   0,   0,   0,\n",
       "          0,   0,   0,   0,   0,   0,   0,   0,   0,   0,   0,   0,   0,\n",
       "          0,   0,   0,   0,   0,   0,   0,   0,   0,   0,   0,   0,   0,\n",
       "          0,   0,   0],\n",
       "       [101,  23, 218, 551,  19,   1,   8, 180,  57,   2, 245,  32,   4,\n",
       "          1,   0,   0,   0,   0,   0,   0,   0,   0,   0,   0,   0,   0,\n",
       "          0,   0,   0,   0,   0,   0,   0,   0,   0,   0,   0,   0,   0,\n",
       "          0,   0,   0,   0,   0,   0,   0,   0,   0,   0,   0,   0,   0,\n",
       "          0,   0,   0,   0,   0,   0,   0,   0,   0,   0,   0,   0,   0,\n",
       "          0,   0,   0,   0,   0,   0,   0,   0,   0,   0,   0,   0,   0,\n",
       "          0,   0,   0,   0,   0,   0,   0,   0,   0,   0,   0,   0,   0,\n",
       "          0,   0,   0,   0,   0,   0,   0,   0,   0,   0,   0,   0,   0,\n",
       "          0,   0,   0]])"
      ]
     },
     "execution_count": 76,
     "metadata": {},
     "output_type": "execute_result"
    }
   ],
   "source": [
    "encoded_example = encoder(example)[:3].numpy()\n",
    "encoded_example"
   ]
  },
  {
   "cell_type": "code",
   "execution_count": 77,
   "id": "2cb9e366",
   "metadata": {},
   "outputs": [
    {
     "name": "stdout",
     "output_type": "stream",
     "text": [
      "Original:  b'waqt se pehle or naseeb se zyada kisi ko kuch nahi milta,zindgi wo nahi he jo hum sochte hai zindgi wo hai jo ham jeetey hai..........'\n",
      "Round-trip:  [UNK] [UNK] [UNK] or [UNK] [UNK] [UNK] [UNK] [UNK] [UNK] [UNK] [UNK] [UNK] [UNK] he [UNK] [UNK] [UNK] [UNK] [UNK] [UNK] [UNK] [UNK] [UNK] [UNK] [UNK]                                                                                 \n",
      "\n",
      "Original:  b'usually the body takes care of it buy making sure it doesnt progress. can we pls continue this talk on saturday.'\n",
      "Round-trip:  [UNK] the [UNK] takes care of it buy making sure it doesnt [UNK] can we pls [UNK] this talk on saturday                                                                                      \n",
      "\n",
      "Original:  b\"hi. i'm always online on yahoo and would like to chat with you someday\"\n",
      "Round-trip:  hi im always online on [UNK] and would like to chat with you [UNK]                                                                                             \n",
      "\n"
     ]
    }
   ],
   "source": [
    "for n in range(3):\n",
    "    print(\"Original: \", example[n].numpy())\n",
    "    print(\"Round-trip: \", \" \".join(vocab[encoded_example[n]]))\n",
    "    print()"
   ]
  },
  {
   "cell_type": "code",
   "execution_count": 90,
   "id": "5315ea68",
   "metadata": {},
   "outputs": [
    {
     "data": {
      "text/html": [
       "<pre style=\"white-space:pre;overflow-x:auto;line-height:normal;font-family:Menlo,'DejaVu Sans Mono',consolas,'Courier New',monospace\"><span style=\"font-weight: bold\">Model: \"sequential_5\"</span>\n",
       "</pre>\n"
      ],
      "text/plain": [
       "\u001b[1mModel: \"sequential_5\"\u001b[0m\n"
      ]
     },
     "metadata": {},
     "output_type": "display_data"
    },
    {
     "data": {
      "text/html": [
       "<pre style=\"white-space:pre;overflow-x:auto;line-height:normal;font-family:Menlo,'DejaVu Sans Mono',consolas,'Courier New',monospace\">┏━━━━━━━━━━━━━━━━━━━━━━━━━━━━━━━━━┳━━━━━━━━━━━━━━━━━━━━━━━━┳━━━━━━━━━━━━━━━┓\n",
       "┃<span style=\"font-weight: bold\"> Layer (type)                    </span>┃<span style=\"font-weight: bold\"> Output Shape           </span>┃<span style=\"font-weight: bold\">       Param # </span>┃\n",
       "┡━━━━━━━━━━━━━━━━━━━━━━━━━━━━━━━━━╇━━━━━━━━━━━━━━━━━━━━━━━━╇━━━━━━━━━━━━━━━┩\n",
       "│ text_vectorization_2            │ (<span style=\"color: #00af00; text-decoration-color: #00af00\">1</span>, <span style=\"color: #00d7ff; text-decoration-color: #00d7ff\">None</span>)              │             <span style=\"color: #00af00; text-decoration-color: #00af00\">0</span> │\n",
       "│ (<span style=\"color: #0087ff; text-decoration-color: #0087ff\">TextVectorization</span>)             │                        │               │\n",
       "├─────────────────────────────────┼────────────────────────┼───────────────┤\n",
       "│ embedding_5 (<span style=\"color: #0087ff; text-decoration-color: #0087ff\">Embedding</span>)         │ ?                      │   <span style=\"color: #00af00; text-decoration-color: #00af00\">0</span> (unbuilt) │\n",
       "├─────────────────────────────────┼────────────────────────┼───────────────┤\n",
       "│ bidirectional_5 (<span style=\"color: #0087ff; text-decoration-color: #0087ff\">Bidirectional</span>) │ ?                      │   <span style=\"color: #00af00; text-decoration-color: #00af00\">0</span> (unbuilt) │\n",
       "├─────────────────────────────────┼────────────────────────┼───────────────┤\n",
       "│ dense_10 (<span style=\"color: #0087ff; text-decoration-color: #0087ff\">Dense</span>)                │ ?                      │   <span style=\"color: #00af00; text-decoration-color: #00af00\">0</span> (unbuilt) │\n",
       "├─────────────────────────────────┼────────────────────────┼───────────────┤\n",
       "│ dense_11 (<span style=\"color: #0087ff; text-decoration-color: #0087ff\">Dense</span>)                │ ?                      │   <span style=\"color: #00af00; text-decoration-color: #00af00\">0</span> (unbuilt) │\n",
       "└─────────────────────────────────┴────────────────────────┴───────────────┘\n",
       "</pre>\n"
      ],
      "text/plain": [
       "┏━━━━━━━━━━━━━━━━━━━━━━━━━━━━━━━━━┳━━━━━━━━━━━━━━━━━━━━━━━━┳━━━━━━━━━━━━━━━┓\n",
       "┃\u001b[1m \u001b[0m\u001b[1mLayer (type)                   \u001b[0m\u001b[1m \u001b[0m┃\u001b[1m \u001b[0m\u001b[1mOutput Shape          \u001b[0m\u001b[1m \u001b[0m┃\u001b[1m \u001b[0m\u001b[1m      Param #\u001b[0m\u001b[1m \u001b[0m┃\n",
       "┡━━━━━━━━━━━━━━━━━━━━━━━━━━━━━━━━━╇━━━━━━━━━━━━━━━━━━━━━━━━╇━━━━━━━━━━━━━━━┩\n",
       "│ text_vectorization_2            │ (\u001b[38;5;34m1\u001b[0m, \u001b[38;5;45mNone\u001b[0m)              │             \u001b[38;5;34m0\u001b[0m │\n",
       "│ (\u001b[38;5;33mTextVectorization\u001b[0m)             │                        │               │\n",
       "├─────────────────────────────────┼────────────────────────┼───────────────┤\n",
       "│ embedding_5 (\u001b[38;5;33mEmbedding\u001b[0m)         │ ?                      │   \u001b[38;5;34m0\u001b[0m (unbuilt) │\n",
       "├─────────────────────────────────┼────────────────────────┼───────────────┤\n",
       "│ bidirectional_5 (\u001b[38;5;33mBidirectional\u001b[0m) │ ?                      │   \u001b[38;5;34m0\u001b[0m (unbuilt) │\n",
       "├─────────────────────────────────┼────────────────────────┼───────────────┤\n",
       "│ dense_10 (\u001b[38;5;33mDense\u001b[0m)                │ ?                      │   \u001b[38;5;34m0\u001b[0m (unbuilt) │\n",
       "├─────────────────────────────────┼────────────────────────┼───────────────┤\n",
       "│ dense_11 (\u001b[38;5;33mDense\u001b[0m)                │ ?                      │   \u001b[38;5;34m0\u001b[0m (unbuilt) │\n",
       "└─────────────────────────────────┴────────────────────────┴───────────────┘\n"
      ]
     },
     "metadata": {},
     "output_type": "display_data"
    },
    {
     "data": {
      "text/html": [
       "<pre style=\"white-space:pre;overflow-x:auto;line-height:normal;font-family:Menlo,'DejaVu Sans Mono',consolas,'Courier New',monospace\"><span style=\"font-weight: bold\"> Total params: </span><span style=\"color: #00af00; text-decoration-color: #00af00\">0</span> (0.00 B)\n",
       "</pre>\n"
      ],
      "text/plain": [
       "\u001b[1m Total params: \u001b[0m\u001b[38;5;34m0\u001b[0m (0.00 B)\n"
      ]
     },
     "metadata": {},
     "output_type": "display_data"
    },
    {
     "data": {
      "text/html": [
       "<pre style=\"white-space:pre;overflow-x:auto;line-height:normal;font-family:Menlo,'DejaVu Sans Mono',consolas,'Courier New',monospace\"><span style=\"font-weight: bold\"> Trainable params: </span><span style=\"color: #00af00; text-decoration-color: #00af00\">0</span> (0.00 B)\n",
       "</pre>\n"
      ],
      "text/plain": [
       "\u001b[1m Trainable params: \u001b[0m\u001b[38;5;34m0\u001b[0m (0.00 B)\n"
      ]
     },
     "metadata": {},
     "output_type": "display_data"
    },
    {
     "data": {
      "text/html": [
       "<pre style=\"white-space:pre;overflow-x:auto;line-height:normal;font-family:Menlo,'DejaVu Sans Mono',consolas,'Courier New',monospace\"><span style=\"font-weight: bold\"> Non-trainable params: </span><span style=\"color: #00af00; text-decoration-color: #00af00\">0</span> (0.00 B)\n",
       "</pre>\n"
      ],
      "text/plain": [
       "\u001b[1m Non-trainable params: \u001b[0m\u001b[38;5;34m0\u001b[0m (0.00 B)\n"
      ]
     },
     "metadata": {},
     "output_type": "display_data"
    }
   ],
   "source": [
    "model = tf.keras.Sequential([\n",
    "    encoder,\n",
    "    tf.keras.layers.Embedding(\n",
    "        input_dim=len(encoder.get_vocabulary()),\n",
    "        output_dim=64,\n",
    "        # Use masking to handle the variable sequence lengths\n",
    "        mask_zero=True),\n",
    "    tf.keras.layers.Bidirectional(tf.keras.layers.LSTM(64)),\n",
    "    tf.keras.layers.Dense(64, activation='relu'),\n",
    "    tf.keras.layers.Dense(1, activation='sigmoid')\n",
    "])\n",
    "\n",
    "model.summary()"
   ]
  },
  {
   "cell_type": "code",
   "execution_count": 91,
   "id": "a4057b08",
   "metadata": {},
   "outputs": [
    {
     "name": "stdout",
     "output_type": "stream",
     "text": [
      "[False, True, True, True, True]\n"
     ]
    }
   ],
   "source": [
    "print([layer.supports_masking for layer in model.layers])"
   ]
  },
  {
   "cell_type": "code",
   "execution_count": 92,
   "id": "83e5d0d0",
   "metadata": {},
   "outputs": [
    {
     "name": "stdout",
     "output_type": "stream",
     "text": [
      "\u001b[1m1/1\u001b[0m \u001b[32m━━━━━━━━━━━━━━━━━━━━\u001b[0m\u001b[37m\u001b[0m \u001b[1m1s\u001b[0m 652ms/step\n",
      "[0.50282246]\n"
     ]
    }
   ],
   "source": [
    "# Predict on a sample text without padding.\n",
    "# Predictions are poor before training.\n",
    "\n",
    "sample_text = ('The movie was cool. The animation and the graphics were out of this world. I would recommend this movie.')\n",
    "\n",
    "predictions = model.predict(np.array([sample_text], dtype=object)) \n",
    "\n",
    "print(predictions[0])"
   ]
  },
  {
   "cell_type": "code",
   "execution_count": 93,
   "id": "f0a351d3",
   "metadata": {},
   "outputs": [
    {
     "name": "stdout",
     "output_type": "stream",
     "text": [
      "\u001b[1m1/1\u001b[0m \u001b[32m━━━━━━━━━━━━━━━━━━━━\u001b[0m\u001b[37m\u001b[0m \u001b[1m0s\u001b[0m 22ms/step\n",
      "[0.50145423]\n"
     ]
    }
   ],
   "source": [
    "sample_text = ('Congratulations! You won a $500 gift card to Target. Click here to claim your reward.')\n",
    "\n",
    "predictions = model.predict(np.array([sample_text], dtype=object)) \n",
    "\n",
    "print(predictions[0])"
   ]
  },
  {
   "cell_type": "code",
   "execution_count": 95,
   "id": "e6e12175",
   "metadata": {
    "scrolled": true
   },
   "outputs": [
    {
     "name": "stdout",
     "output_type": "stream",
     "text": [
      "\u001b[1m1/1\u001b[0m \u001b[32m━━━━━━━━━━━━━━━━━━━━\u001b[0m\u001b[37m\u001b[0m \u001b[1m0s\u001b[0m 462ms/step\n",
      "[0.50145423]\n"
     ]
    }
   ],
   "source": [
    "# predict on a sample text with padding\n",
    "\n",
    "padding = \"the \" * 2000\n",
    "predictions = model.predict(np.array([sample_text, padding], dtype=object))\n",
    "print(predictions[0])"
   ]
  },
  {
   "cell_type": "code",
   "execution_count": 96,
   "id": "cca5d28f",
   "metadata": {},
   "outputs": [],
   "source": [
    "# Compile the model\n",
    "\n",
    "model.compile(loss=tf.keras.losses.BinaryCrossentropy(from_logits=True),\n",
    "              optimizer=tf.keras.optimizers.Adam(1e-4),\n",
    "              metrics=['accuracy'])"
   ]
  },
  {
   "cell_type": "code",
   "execution_count": 97,
   "id": "c103dc9d",
   "metadata": {},
   "outputs": [
    {
     "name": "stdout",
     "output_type": "stream",
     "text": [
      "Epoch 1/10\n"
     ]
    },
    {
     "name": "stderr",
     "output_type": "stream",
     "text": [
      "/Users/adisontan/anaconda3/lib/python3.11/site-packages/keras/src/backend/tensorflow/nn.py:789: UserWarning: \"`binary_crossentropy` received `from_logits=True`, but the `output` argument was produced by a Sigmoid activation and thus does not represent logits. Was this intended?\n",
      "  output, from_logits = _get_logits(\n"
     ]
    },
    {
     "name": "stdout",
     "output_type": "stream",
     "text": [
      "\u001b[1m66/66\u001b[0m \u001b[32m━━━━━━━━━━━━━━━━━━━━\u001b[0m\u001b[37m\u001b[0m \u001b[1m7s\u001b[0m 62ms/step - accuracy: 0.8491 - loss: 0.6740 - val_accuracy: 0.8708 - val_loss: 0.5774\n",
      "Epoch 2/10\n",
      "\u001b[1m66/66\u001b[0m \u001b[32m━━━━━━━━━━━━━━━━━━━━\u001b[0m\u001b[37m\u001b[0m \u001b[1m5s\u001b[0m 74ms/step - accuracy: 0.8617 - loss: 0.5323 - val_accuracy: 0.8708 - val_loss: 0.4255\n",
      "Epoch 3/10\n",
      "\u001b[1m66/66\u001b[0m \u001b[32m━━━━━━━━━━━━━━━━━━━━\u001b[0m\u001b[37m\u001b[0m \u001b[1m5s\u001b[0m 81ms/step - accuracy: 0.8727 - loss: 0.3927 - val_accuracy: 0.8729 - val_loss: 0.2989\n",
      "Epoch 4/10\n",
      "\u001b[1m66/66\u001b[0m \u001b[32m━━━━━━━━━━━━━━━━━━━━\u001b[0m\u001b[37m\u001b[0m \u001b[1m6s\u001b[0m 90ms/step - accuracy: 0.8892 - loss: 0.2620 - val_accuracy: 0.9620 - val_loss: 0.1691\n",
      "Epoch 5/10\n",
      "\u001b[1m66/66\u001b[0m \u001b[32m━━━━━━━━━━━━━━━━━━━━\u001b[0m\u001b[37m\u001b[0m \u001b[1m6s\u001b[0m 90ms/step - accuracy: 0.9682 - loss: 0.1613 - val_accuracy: 0.9745 - val_loss: 0.1064\n",
      "Epoch 6/10\n",
      "\u001b[1m66/66\u001b[0m \u001b[32m━━━━━━━━━━━━━━━━━━━━\u001b[0m\u001b[37m\u001b[0m \u001b[1m6s\u001b[0m 94ms/step - accuracy: 0.9735 - loss: 0.1133 - val_accuracy: 0.9812 - val_loss: 0.0689\n",
      "Epoch 7/10\n",
      "\u001b[1m66/66\u001b[0m \u001b[32m━━━━━━━━━━━━━━━━━━━━\u001b[0m\u001b[37m\u001b[0m \u001b[1m6s\u001b[0m 92ms/step - accuracy: 0.9823 - loss: 0.0692 - val_accuracy: 0.9812 - val_loss: 0.0661\n",
      "Epoch 8/10\n",
      "\u001b[1m66/66\u001b[0m \u001b[32m━━━━━━━━━━━━━━━━━━━━\u001b[0m\u001b[37m\u001b[0m \u001b[1m6s\u001b[0m 93ms/step - accuracy: 0.9832 - loss: 0.0619 - val_accuracy: 0.9875 - val_loss: 0.0499\n",
      "Epoch 9/10\n",
      "\u001b[1m66/66\u001b[0m \u001b[32m━━━━━━━━━━━━━━━━━━━━\u001b[0m\u001b[37m\u001b[0m \u001b[1m7s\u001b[0m 101ms/step - accuracy: 0.9879 - loss: 0.0497 - val_accuracy: 0.9896 - val_loss: 0.0424\n",
      "Epoch 10/10\n",
      "\u001b[1m66/66\u001b[0m \u001b[32m━━━━━━━━━━━━━━━━━━━━\u001b[0m\u001b[37m\u001b[0m \u001b[1m6s\u001b[0m 96ms/step - accuracy: 0.9851 - loss: 0.0543 - val_accuracy: 0.9906 - val_loss: 0.0376\n"
     ]
    }
   ],
   "source": [
    "history = model.fit(train_ds, epochs=10,\n",
    "                    validation_data=test_ds,\n",
    "                    validation_steps=30)"
   ]
  },
  {
   "cell_type": "code",
   "execution_count": 110,
   "id": "0288695f",
   "metadata": {},
   "outputs": [
    {
     "name": "stdout",
     "output_type": "stream",
     "text": [
      "Test Loss: 0.04413110390305519\n",
      "Test Accuracy: 0.9885140061378479\n"
     ]
    },
    {
     "data": {
      "image/png": "[encoded data removed]",
      "text/plain": [
       "<Figure size 1600x600 with 2 Axes>"
      ]
     },
     "metadata": {},
     "output_type": "display_data"
    }
   ],
   "source": [
    "plt.figure(figsize=(16, 6))\n",
    "plt.subplot(1, 2, 1)\n",
    "plot_graphs(history, 'accuracy')\n",
    "plt.subplot(1, 2, 2)\n",
    "plot_graphs(history, 'loss')\n",
    "\n",
    "test_loss, test_acc = model.evaluate(test_ds, verbose=False)\n",
    "\n",
    "print('Test Loss:', test_loss)\n",
    "print('Test Accuracy:', test_acc)"
   ]
  },
  {
   "cell_type": "code",
   "execution_count": 129,
   "id": "32638db1",
   "metadata": {},
   "outputs": [
    {
     "name": "stdout",
     "output_type": "stream",
     "text": [
      "\u001b[1m1/1\u001b[0m \u001b[32m━━━━━━━━━━━━━━━━━━━━\u001b[0m\u001b[37m\u001b[0m \u001b[1m0s\u001b[0m 24ms/step\n",
      "[0.0639623]\n"
     ]
    }
   ],
   "source": [
    "sample_text = ('Congratulations! You won a $500 gift card to Target. Click here to claim your reward.')\n",
    "\n",
    "predictions = model.predict(np.array([sample_text], dtype=object))\n",
    "print(predictions[0])"
   ]
  },
  {
   "cell_type": "code",
   "execution_count": 126,
   "id": "7d417b58",
   "metadata": {},
   "outputs": [
    {
     "name": "stdout",
     "output_type": "stream",
     "text": [
      "\u001b[1m1/1\u001b[0m \u001b[32m━━━━━━━━━━━━━━━━━━━━\u001b[0m\u001b[37m\u001b[0m \u001b[1m0s\u001b[0m 30ms/step\n",
      "Accuracy:  [0.98618615]\n",
      "Label:  ham\n"
     ]
    }
   ],
   "source": [
    "# function to predict messages based on model\n",
    "# (should return list containing prediction and label, ex. [0.008318834938108921, 'ham'])\n",
    "def predict_message(pred_text):\n",
    "    \n",
    "    prediction = model.predict(np.array([pred_text], dtype=object)) \n",
    "    if prediction[0] > 0.5:\n",
    "        label = 'ham'\n",
    "    else:\n",
    "        label = 'spam'\n",
    "    \n",
    "    return (prediction[0], label)\n",
    "\n",
    "pred_text = \"how are you doing today?\"\n",
    "\n",
    "prediction = predict_message(pred_text)\n",
    "print('Accuracy: ', prediction[0])\n",
    "print('Label: ', prediction[1])"
   ]
  },
  {
   "cell_type": "code",
   "execution_count": 128,
   "id": "273cd5f7",
   "metadata": {},
   "outputs": [
    {
     "name": "stdout",
     "output_type": "stream",
     "text": [
      "\u001b[1m1/1\u001b[0m \u001b[32m━━━━━━━━━━━━━━━━━━━━\u001b[0m\u001b[37m\u001b[0m \u001b[1m0s\u001b[0m 24ms/step\n",
      "\u001b[1m1/1\u001b[0m \u001b[32m━━━━━━━━━━━━━━━━━━━━\u001b[0m\u001b[37m\u001b[0m \u001b[1m0s\u001b[0m 19ms/step\n",
      "\u001b[1m1/1\u001b[0m \u001b[32m━━━━━━━━━━━━━━━━━━━━\u001b[0m\u001b[37m\u001b[0m \u001b[1m0s\u001b[0m 20ms/step\n",
      "\u001b[1m1/1\u001b[0m \u001b[32m━━━━━━━━━━━━━━━━━━━━\u001b[0m\u001b[37m\u001b[0m \u001b[1m0s\u001b[0m 18ms/step\n",
      "\u001b[1m1/1\u001b[0m \u001b[32m━━━━━━━━━━━━━━━━━━━━\u001b[0m\u001b[37m\u001b[0m \u001b[1m0s\u001b[0m 18ms/step\n",
      "\u001b[1m1/1\u001b[0m \u001b[32m━━━━━━━━━━━━━━━━━━━━\u001b[0m\u001b[37m\u001b[0m \u001b[1m0s\u001b[0m 26ms/step\n",
      "\u001b[1m1/1\u001b[0m \u001b[32m━━━━━━━━━━━━━━━━━━━━\u001b[0m\u001b[37m\u001b[0m \u001b[1m0s\u001b[0m 18ms/step\n",
      "You passed the challenge. Great job!\n"
     ]
    }
   ],
   "source": [
    "# Run this cell to test your function and model. Do not modify contents.\n",
    "def test_predictions():\n",
    "    test_messages = [\"how are you doing today\",\n",
    "                   \"sale today! to stop texts call 98912460324\",\n",
    "                   \"i dont want to go. can we try it a different day? available sat\",\n",
    "                   \"our new mobile video service is live. just install on your phone to start watching.\",\n",
    "                   \"you have won £1000 cash! call to claim your prize.\",\n",
    "                   \"i'll bring it tomorrow. don't forget the milk.\",\n",
    "                   \"wow, is your arm alright. that happened to me one time too\"\n",
    "                  ]\n",
    "\n",
    "    test_answers = [\"ham\", \"spam\", \"ham\", \"spam\", \"spam\", \"ham\", \"ham\"]\n",
    "    passed = True\n",
    "\n",
    "    for msg, ans in zip(test_messages, test_answers):\n",
    "        prediction = predict_message(msg)\n",
    "        if prediction[1] != ans:\n",
    "            passed = False\n",
    "\n",
    "    if passed:\n",
    "        print(\"You passed the challenge. Great job!\")\n",
    "    else:\n",
    "        print(\"You haven't passed yet. Keep trying.\")\n",
    "\n",
    "test_predictions()\n"
   ]
  }
 ],
 "metadata": {
  "kernelspec": {
   "display_name": "Python 3 (ipykernel)",
   "language": "python",
   "name": "python3"
  },
  "language_info": {
   "codemirror_mode": {
    "name": "ipython",
    "version": 3
   },
   "file_extension": ".py",
   "mimetype": "text/x-python",
   "name": "python",
   "nbconvert_exporter": "python",
   "pygments_lexer": "ipython3",
   "version": "3.11.5"
  }
 },
 "nbformat": 4,
 "nbformat_minor": 5
}
