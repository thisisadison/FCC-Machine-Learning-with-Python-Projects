{
 "cells": [
  {
   "cell_type": "code",
   "execution_count": 1,
   "metadata": {
    "id": "Y1onB6kUvo4Z"
   },
   "outputs": [],
   "source": [
    "# import libraries (you may add additional imports but you may not have to)\n",
    "import numpy as np\n",
    "import pandas as pd\n",
    "from scipy.sparse import csr_matrix\n",
    "from sklearn.neighbors import NearestNeighbors\n",
    "import matplotlib.pyplot as plt"
   ]
  },
  {
   "cell_type": "code",
   "execution_count": 2,
   "metadata": {
    "colab": {
     "base_uri": "https://localhost:8080/"
    },
    "id": "iAQGqqO_vo4d",
    "outputId": "33db053c-c8d4-4423-8cf8-6abf05d89874"
   },
   "outputs": [
    {
     "name": "stdout",
     "output_type": "stream",
     "text": [
      "--2025-05-28 14:53:59--  https://cdn.freecodecamp.org/project-data/books/book-crossings.zip\n",
      "Resolving cdn.freecodecamp.org (cdn.freecodecamp.org)... 172.67.70.149, 104.26.3.33, 104.26.2.33, ...\n",
      "Connecting to cdn.freecodecamp.org (cdn.freecodecamp.org)|172.67.70.149|:443... connected.\n",
      "HTTP request sent, awaiting response... 200 OK\n",
      "Length: 26085508 (25M) [application/zip]\n",
      "Saving to: ‘book-crossings.zip’\n",
      "\n",
      "book-crossings.zip  100%[===================>]  24.88M  87.4MB/s    in 0.3s    \n",
      "\n",
      "2025-05-28 14:54:00 (87.4 MB/s) - ‘book-crossings.zip’ saved [26085508/26085508]\n",
      "\n",
      "Archive:  book-crossings.zip\n",
      "  inflating: BX-Book-Ratings.csv     \n",
      "  inflating: BX-Books.csv            \n",
      "  inflating: BX-Users.csv            \n"
     ]
    }
   ],
   "source": [
    "# get data files\n",
    "!wget https://cdn.freecodecamp.org/project-data/books/book-crossings.zip\n",
    "\n",
    "!unzip book-crossings.zip\n",
    "\n",
    "books_filename = 'BX-Books.csv'\n",
    "ratings_filename = 'BX-Book-Ratings.csv'"
   ]
  },
  {
   "cell_type": "code",
   "execution_count": 31,
   "metadata": {
    "id": "NClILWOiEd6Q"
   },
   "outputs": [],
   "source": [
    "# import csv data into dataframes\n",
    "df_books = pd.read_csv(\n",
    "    books_filename,\n",
    "    encoding = \"ISO-8859-1\",\n",
    "    sep=\";\",\n",
    "    header=0,\n",
    "    names=['isbn', 'title', 'author'],\n",
    "    usecols=['isbn', 'title', 'author'],\n",
    "    dtype={'isbn': 'str', 'title': 'str', 'author': 'str'})\n",
    "\n",
    "df_ratings = pd.read_csv(\n",
    "    ratings_filename,\n",
    "    encoding = \"ISO-8859-1\",\n",
    "    sep=\";\",\n",
    "    header=0,\n",
    "    names=['user', 'isbn', 'rating'],\n",
    "    usecols=['user', 'isbn', 'rating'],\n",
    "    dtype={'user': 'int32', 'isbn': 'str', 'rating': 'float32'})"
   ]
  },
  {
   "cell_type": "code",
   "execution_count": 32,
   "metadata": {
    "id": "jfAuJKq0YsrO"
   },
   "outputs": [],
   "source": [
    "userCounts = df_ratings['user'].value_counts()\n",
    "isbnCounts = df_ratings['isbn'].value_counts()"
   ]
  },
  {
   "cell_type": "markdown",
   "metadata": {
    "id": "o_tXAGJZZHY9"
   },
   "source": []
  },
  {
   "cell_type": "code",
   "execution_count": 33,
   "metadata": {
    "colab": {
     "base_uri": "https://localhost:8080/"
    },
    "id": "NdlNsK_QYsuK",
    "outputId": "eb0a28ae-0612-475d-96a5-aca82565df37"
   },
   "outputs": [
    {
     "name": "stdout",
     "output_type": "stream",
     "text": [
      "user\n",
      "11676     13602\n",
      "198711     7550\n",
      "153662     6109\n",
      "98391      5891\n",
      "35859      5850\n",
      "          ...  \n",
      "119573        1\n",
      "276706        1\n",
      "276697        1\n",
      "276679        1\n",
      "276676        1\n",
      "Name: count, Length: 105283, dtype: int64\n",
      "isbn\n",
      "0971880107    2502\n",
      "0316666343    1295\n",
      "0385504209     883\n",
      "0060928336     732\n",
      "0312195516     723\n",
      "              ... \n",
      "0671883917       1\n",
      "0743257502       1\n",
      "0767409752       1\n",
      "0785263195       1\n",
      "0802141358       1\n",
      "Name: count, Length: 340556, dtype: int64\n"
     ]
    }
   ],
   "source": [
    "print(userCounts)\n",
    "print(isbnCounts)"
   ]
  },
  {
   "cell_type": "code",
   "execution_count": 34,
   "metadata": {
    "id": "OUMAJQ_RZILa"
   },
   "outputs": [],
   "source": [
    "#remove all users with less than 200 reviews\n",
    "df_ratings = df_ratings[df_ratings['user'].isin(userCounts[userCounts >= 200].index)]\n",
    "\n",
    "#remove all books with less than 100 ratings\n",
    "df_ratings = df_ratings[df_ratings['isbn'].isin(isbnCounts[isbnCounts >= 100].index)]"
   ]
  },
  {
   "cell_type": "code",
   "execution_count": 35,
   "metadata": {
    "colab": {
     "base_uri": "https://localhost:8080/"
    },
    "id": "1gq21cmkYsws",
    "outputId": "b509ff10-ea83-42af-fb0f-c8d2d2aa7be4"
   },
   "outputs": [
    {
     "name": "stdout",
     "output_type": "stream",
     "text": [
      "           user        isbn  rating\n",
      "1456     277427  002542730X    10.0\n",
      "1469     277427  0060930535     0.0\n",
      "1471     277427  0060934417     0.0\n",
      "1474     277427  0061009059     9.0\n",
      "1484     277427  0140067477     0.0\n",
      "...         ...         ...     ...\n",
      "1147304  275970  0804111359     0.0\n",
      "1147436  275970  140003065X     0.0\n",
      "1147439  275970  1400031346     0.0\n",
      "1147440  275970  1400031354     0.0\n",
      "1147441  275970  1400031362     0.0\n",
      "\n",
      "[49781 rows x 3 columns]\n"
     ]
    }
   ],
   "source": [
    "print(df_ratings)"
   ]
  },
  {
   "cell_type": "code",
   "execution_count": 36,
   "metadata": {
    "colab": {
     "base_uri": "https://localhost:8080/"
    },
    "id": "Nt2ud9vjYszS",
    "outputId": "654f799e-0c5e-4067-b020-7dc20c0b09cc"
   },
   "outputs": [
    {
     "name": "stdout",
     "output_type": "stream",
     "text": [
      "user        254     2276    2766    2977    3363    4017    4385    6242    \\\n",
      "isbn                                                                         \n",
      "002542730X     0.0     0.0     0.0     0.0     0.0     0.0     0.0     0.0   \n",
      "0060008032     0.0     0.0     0.0     0.0     0.0     0.0     0.0     0.0   \n",
      "0060096195     0.0     0.0     0.0     0.0     0.0     0.0     0.0     0.0   \n",
      "006016848X     0.0     0.0     0.0     0.0     0.0     0.0     0.0     0.0   \n",
      "0060173289     0.0     0.0     0.0     0.0     0.0     0.0     0.0     0.0   \n",
      "...            ...     ...     ...     ...     ...     ...     ...     ...   \n",
      "1573227331     0.0     0.0     0.0     0.0     0.0     0.0     0.0     6.0   \n",
      "1573229326     0.0     0.0     0.0     0.0     0.0     0.0     0.0     6.0   \n",
      "1573229571     0.0     0.0     0.0     0.0     0.0     0.0     0.0     0.0   \n",
      "1592400876     0.0     0.0     0.0     0.0     0.0     0.0     0.0     0.0   \n",
      "1878424319     0.0     0.0     0.0     0.0     0.0     0.0     0.0     0.0   \n",
      "\n",
      "user        6251    6323    ...  274004  274061  274301  274308  274808  \\\n",
      "isbn                        ...                                           \n",
      "002542730X     0.0     0.0  ...     0.0     0.0     0.0     0.0     0.0   \n",
      "0060008032     0.0     0.0  ...     0.0     0.0     0.0     0.0     0.0   \n",
      "0060096195     0.0     0.0  ...     0.0     0.0     0.0     0.0     0.0   \n",
      "006016848X     0.0     0.0  ...     0.0     0.0     0.0     0.0     0.0   \n",
      "0060173289     0.0     0.0  ...     0.0     0.0     0.0     0.0     0.0   \n",
      "...            ...     ...  ...     ...     ...     ...     ...     ...   \n",
      "1573227331     0.0     0.0  ...     0.0     0.0     0.0     0.0     0.0   \n",
      "1573229326     0.0     0.0  ...     0.0     0.0     0.0     0.0     0.0   \n",
      "1573229571     0.0     0.0  ...     0.0     0.0     0.0     0.0     0.0   \n",
      "1592400876     0.0     0.0  ...     0.0     0.0     0.0     0.0     0.0   \n",
      "1878424319     0.0     0.0  ...     0.0     0.0     0.0     0.0     0.0   \n",
      "\n",
      "user        275970  277427  277478  277639  278418  \n",
      "isbn                                                \n",
      "002542730X     0.0    10.0     0.0     0.0     0.0  \n",
      "0060008032     0.0     0.0     0.0     0.0     0.0  \n",
      "0060096195     0.0     0.0     0.0     0.0     0.0  \n",
      "006016848X     0.0     0.0     0.0     0.0     0.0  \n",
      "0060173289     0.0     0.0     0.0     0.0     0.0  \n",
      "...            ...     ...     ...     ...     ...  \n",
      "1573227331     0.0     0.0     0.0     0.0     0.0  \n",
      "1573229326     0.0     0.0     0.0     0.0     0.0  \n",
      "1573229571     0.0     0.0     0.0     0.0     0.0  \n",
      "1592400876     0.0     0.0     0.0     0.0     0.0  \n",
      "1878424319     0.0     0.0     0.0     0.0     0.0  \n",
      "\n",
      "[731 rows x 888 columns]\n"
     ]
    }
   ],
   "source": [
    "df_table = df_ratings.pivot_table(index='isbn', columns='user', values='rating').fillna(0)\n",
    "print(df_table)"
   ]
  },
  {
   "cell_type": "code",
   "execution_count": 37,
   "metadata": {
    "colab": {
     "base_uri": "https://localhost:8080/"
    },
    "id": "T8D8qX10Ys16",
    "outputId": "792089ac-d2ea-4a9e-973e-8eeec22d9bdf"
   },
   "outputs": [
    {
     "name": "stdout",
     "output_type": "stream",
     "text": [
      "user                                                254     2276    2766    \\\n",
      "title                                                                        \n",
      "Politically Correct Bedtime Stories: Modern Tal...     0.0     0.0     0.0   \n",
      "Angels                                                 0.0     0.0     0.0   \n",
      "The Boy Next Door                                      0.0     0.0     0.0   \n",
      "Men Are from Mars, Women Are from Venus: A Prac...     0.0     0.0     0.0   \n",
      "Divine Secrets of the Ya-Ya Sisterhood : A Novel       0.0     0.0     0.0   \n",
      "...                                                    ...     ...     ...   \n",
      "About a Boy                                            0.0     0.0     0.0   \n",
      "How to Be Good                                         0.0     0.0     0.0   \n",
      "About a Boy (Movie Tie-In)                             0.0     0.0     0.0   \n",
      "Eats, Shoots &amp; Leaves: The Zero Tolerance A...     0.0     0.0     0.0   \n",
      "The Four Agreements: A Practical Guide to Perso...     0.0     0.0     0.0   \n",
      "\n",
      "user                                                2977    3363    4017    \\\n",
      "title                                                                        \n",
      "Politically Correct Bedtime Stories: Modern Tal...     0.0     0.0     0.0   \n",
      "Angels                                                 0.0     0.0     0.0   \n",
      "The Boy Next Door                                      0.0     0.0     0.0   \n",
      "Men Are from Mars, Women Are from Venus: A Prac...     0.0     0.0     0.0   \n",
      "Divine Secrets of the Ya-Ya Sisterhood : A Novel       0.0     0.0     0.0   \n",
      "...                                                    ...     ...     ...   \n",
      "About a Boy                                            0.0     0.0     0.0   \n",
      "How to Be Good                                         0.0     0.0     0.0   \n",
      "About a Boy (Movie Tie-In)                             0.0     0.0     0.0   \n",
      "Eats, Shoots &amp; Leaves: The Zero Tolerance A...     0.0     0.0     0.0   \n",
      "The Four Agreements: A Practical Guide to Perso...     0.0     0.0     0.0   \n",
      "\n",
      "user                                                4385    6242    6251    \\\n",
      "title                                                                        \n",
      "Politically Correct Bedtime Stories: Modern Tal...     0.0     0.0     0.0   \n",
      "Angels                                                 0.0     0.0     0.0   \n",
      "The Boy Next Door                                      0.0     0.0     0.0   \n",
      "Men Are from Mars, Women Are from Venus: A Prac...     0.0     0.0     0.0   \n",
      "Divine Secrets of the Ya-Ya Sisterhood : A Novel       0.0     0.0     0.0   \n",
      "...                                                    ...     ...     ...   \n",
      "About a Boy                                            0.0     6.0     0.0   \n",
      "How to Be Good                                         0.0     6.0     0.0   \n",
      "About a Boy (Movie Tie-In)                             0.0     0.0     0.0   \n",
      "Eats, Shoots &amp; Leaves: The Zero Tolerance A...     0.0     0.0     0.0   \n",
      "The Four Agreements: A Practical Guide to Perso...     0.0     0.0     0.0   \n",
      "\n",
      "user                                                6323    ...  274004  \\\n",
      "title                                                       ...           \n",
      "Politically Correct Bedtime Stories: Modern Tal...     0.0  ...     0.0   \n",
      "Angels                                                 0.0  ...     0.0   \n",
      "The Boy Next Door                                      0.0  ...     0.0   \n",
      "Men Are from Mars, Women Are from Venus: A Prac...     0.0  ...     0.0   \n",
      "Divine Secrets of the Ya-Ya Sisterhood : A Novel       0.0  ...     0.0   \n",
      "...                                                    ...  ...     ...   \n",
      "About a Boy                                            0.0  ...     0.0   \n",
      "How to Be Good                                         0.0  ...     0.0   \n",
      "About a Boy (Movie Tie-In)                             0.0  ...     0.0   \n",
      "Eats, Shoots &amp; Leaves: The Zero Tolerance A...     0.0  ...     0.0   \n",
      "The Four Agreements: A Practical Guide to Perso...     0.0  ...     0.0   \n",
      "\n",
      "user                                                274061  274301  274308  \\\n",
      "title                                                                        \n",
      "Politically Correct Bedtime Stories: Modern Tal...     0.0     0.0     0.0   \n",
      "Angels                                                 0.0     0.0     0.0   \n",
      "The Boy Next Door                                      0.0     0.0     0.0   \n",
      "Men Are from Mars, Women Are from Venus: A Prac...     0.0     0.0     0.0   \n",
      "Divine Secrets of the Ya-Ya Sisterhood : A Novel       0.0     0.0     0.0   \n",
      "...                                                    ...     ...     ...   \n",
      "About a Boy                                            0.0     0.0     0.0   \n",
      "How to Be Good                                         0.0     0.0     0.0   \n",
      "About a Boy (Movie Tie-In)                             0.0     0.0     0.0   \n",
      "Eats, Shoots &amp; Leaves: The Zero Tolerance A...     0.0     0.0     0.0   \n",
      "The Four Agreements: A Practical Guide to Perso...     0.0     0.0     0.0   \n",
      "\n",
      "user                                                274808  275970  277427  \\\n",
      "title                                                                        \n",
      "Politically Correct Bedtime Stories: Modern Tal...     0.0     0.0    10.0   \n",
      "Angels                                                 0.0     0.0     0.0   \n",
      "The Boy Next Door                                      0.0     0.0     0.0   \n",
      "Men Are from Mars, Women Are from Venus: A Prac...     0.0     0.0     0.0   \n",
      "Divine Secrets of the Ya-Ya Sisterhood : A Novel       0.0     0.0     0.0   \n",
      "...                                                    ...     ...     ...   \n",
      "About a Boy                                            0.0     0.0     0.0   \n",
      "How to Be Good                                         0.0     0.0     0.0   \n",
      "About a Boy (Movie Tie-In)                             0.0     0.0     0.0   \n",
      "Eats, Shoots &amp; Leaves: The Zero Tolerance A...     0.0     0.0     0.0   \n",
      "The Four Agreements: A Practical Guide to Perso...     0.0     0.0     0.0   \n",
      "\n",
      "user                                                277478  277639  278418  \n",
      "title                                                                       \n",
      "Politically Correct Bedtime Stories: Modern Tal...     0.0     0.0     0.0  \n",
      "Angels                                                 0.0     0.0     0.0  \n",
      "The Boy Next Door                                      0.0     0.0     0.0  \n",
      "Men Are from Mars, Women Are from Venus: A Prac...     0.0     0.0     0.0  \n",
      "Divine Secrets of the Ya-Ya Sisterhood : A Novel       0.0     0.0     0.0  \n",
      "...                                                    ...     ...     ...  \n",
      "About a Boy                                            0.0     0.0     0.0  \n",
      "How to Be Good                                         0.0     0.0     0.0  \n",
      "About a Boy (Movie Tie-In)                             0.0     0.0     0.0  \n",
      "Eats, Shoots &amp; Leaves: The Zero Tolerance A...     0.0     0.0     0.0  \n",
      "The Four Agreements: A Practical Guide to Perso...     0.0     0.0     0.0  \n",
      "\n",
      "[731 rows x 888 columns]\n"
     ]
    }
   ],
   "source": [
    "df_table.index = df_table.join(df_books.set_index('isbn'))['title']\n",
    "print(df_table)"
   ]
  },
  {
   "cell_type": "code",
   "execution_count": 38,
   "metadata": {
    "id": "rPvQZscIYs4T"
   },
   "outputs": [],
   "source": [
    "# function to return recommended books - this will be tested\n",
    "\n",
    "def get_recommends(book = \"\"):\n",
    "    recommended_books = []\n",
    "    nbrs = NearestNeighbors(n_neighbors=6, metric=\"cosine\").fit(df_table.values)\n",
    "    distances, indices = nbrs.kneighbors([df_table.loc[book].values], n_neighbors=6)\n",
    "    for i in range(1,6):\n",
    "        recommended_books.append([df_table.index[indices[0][-i]], distances[0][-i]])\n",
    "\n",
    "    return [book, recommended_books]"
   ]
  },
  {
   "cell_type": "code",
   "execution_count": 39,
   "metadata": {
    "colab": {
     "base_uri": "https://localhost:8080/"
    },
    "id": "jd2SLCh8oxMh",
    "outputId": "fe91ab9f-eada-471e-913b-d5c114443c25"
   },
   "outputs": [
    {
     "name": "stdout",
     "output_type": "stream",
     "text": [
      "[\"Where the Heart Is (Oprah's Book Club (Paperback))\", [[\"I'll Be Seeing You\", np.float32(0.8016211)], ['The Weight of Water', np.float32(0.77085835)], ['The Surgeon', np.float32(0.7699411)], ['I Know This Much Is True', np.float32(0.7677075)], ['The Lovely Bones: A Novel', np.float32(0.7234864)]]]\n",
      "You passed the challenge! 🎉🎉🎉🎉🎉\n"
     ]
    }
   ],
   "source": [
    "books = get_recommends(\"Where the Heart Is (Oprah's Book Club (Paperback))\")\n",
    "print(books)\n",
    "\n",
    "def test_book_recommendation():\n",
    "    test_pass = True\n",
    "    recommends = get_recommends(\"Where the Heart Is (Oprah's Book Club (Paperback))\")\n",
    "    if recommends[0] != \"Where the Heart Is (Oprah's Book Club (Paperback))\":\n",
    "        test_pass = False\n",
    "    recommended_books = [\"I'll Be Seeing You\", 'The Weight of Water', 'The Surgeon', 'I Know This Much Is True']\n",
    "    recommended_books_dist = [0.8, 0.77, 0.77, 0.77]\n",
    "    for i in range(2):\n",
    "        if recommends[1][i][0] not in recommended_books:\n",
    "        test_pass = False\n",
    "    if abs(recommends[1][i][1] - recommended_books_dist[i]) >= 0.05:\n",
    "        test_pass = False\n",
    "    if test_pass:\n",
    "        print(\"You passed the challenge! 🎉🎉🎉🎉🎉\")\n",
    "    else:\n",
    "        print(\"You haven't passed yet. Keep trying!\")\n",
    "\n",
    "test_book_recommendation()"
   ]
  }
 ],
 "metadata": {
  "colab": {
   "name": "fcc_book_recommendation_knn.ipynb",
   "provenance": []
  },
  "kernelspec": {
   "display_name": "Python 3 (ipykernel)",
   "language": "python",
   "name": "python3"
  },
  "language_info": {
   "codemirror_mode": {
    "name": "ipython",
    "version": 3
   },
   "file_extension": ".py",
   "mimetype": "text/x-python",
   "name": "python",
   "nbconvert_exporter": "python",
   "pygments_lexer": "ipython3",
   "version": "3.11.5"
  }
 },
 "nbformat": 4,
 "nbformat_minor": 1
}
